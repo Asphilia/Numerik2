{
  "nbformat": 4,
  "nbformat_minor": 0,
  "metadata": {
    "colab": {
      "name": "Numerik2Projekt4_Aufgabe1.ipynb",
      "provenance": [],
      "collapsed_sections": []
    },
    "kernelspec": {
      "name": "python3",
      "display_name": "Python 3"
    }
  },
  "cells": [
    {
      "cell_type": "code",
      "metadata": {
        "id": "YC6Gue4_inLo",
        "colab_type": "code",
        "colab": {}
      },
      "source": [
        "# imports\n",
        "import numpy as np\n",
        "import scipy as sc\n",
        "import scipy.linalg as scl\n",
        "import plotly.graph_objects as go\n",
        "import plotly.express as px"
      ],
      "execution_count": 1,
      "outputs": []
    },
    {
      "cell_type": "markdown",
      "metadata": {
        "id": "tY576guQi-Yv",
        "colab_type": "text"
      },
      "source": [
        "# Projekt 4 in Numerik 2\n",
        "Janike Katter"
      ]
    },
    {
      "cell_type": "markdown",
      "metadata": {
        "id": "hhX8iZfnjD0W",
        "colab_type": "text"
      },
      "source": [
        "## Aufgabe 1: QR-Verfahren"
      ]
    },
    {
      "cell_type": "code",
      "metadata": {
        "id": "EoXftnELl7zl",
        "colab_type": "code",
        "colab": {}
      },
      "source": [
        "# Beispiel Matrizen:\n",
        "A = np.matrix('5 4 2; 0 1 -1; -1 -1 3', dtype=float)\n",
        "B = np.matrix('-1 1 3; 3 3 -2; -5 2 7', dtype=float)\n",
        "C = np.matrix('-5 -10 -10 5; 4 16 11 -8; 12 13 8 -4; 22 48 28 -19', dtype=float)\n",
        "D = np.matrix('0 0 0 1; 0 0 -1 0; 0 1 0 0; -1 0 0 0', dtype=float)"
      ],
      "execution_count": 2,
      "outputs": []
    },
    {
      "cell_type": "markdown",
      "metadata": {
        "id": "ZZSPhnKljII7",
        "colab_type": "text"
      },
      "source": [
        "### Einfaches QR-Verfahren"
      ]
    },
    {
      "cell_type": "code",
      "metadata": {
        "id": "gJwc3fZvlBv9",
        "colab_type": "code",
        "colab": {}
      },
      "source": [
        "def qr_fehler(M):\n",
        "  err = 0\n",
        "  mm = 0\n",
        "  for i in range(len(M)):\n",
        "    for j in range(len(M[0])):\n",
        "      if not j >= i:\n",
        "        err += abs(M[i,j])\n",
        "        mm += 1\n",
        "\n",
        "  return err/mm"
      ],
      "execution_count": 3,
      "outputs": []
    },
    {
      "cell_type": "code",
      "metadata": {
        "id": "qK2AWv5gi0Yu",
        "colab_type": "code",
        "colab": {}
      },
      "source": [
        "def qr1(M, tol=1e-3, maxIter=1000000):\n",
        "  AI = M\n",
        "  err = qr_fehler(AI)\n",
        "  errs = []\n",
        "  errs.append(err)\n",
        "  iteration = 0\n",
        "  while (err > tol) and (iteration < maxIter):\n",
        "    iteration += 1\n",
        "    Q, R = scl.qr(AI)\n",
        "    AI = np.matmul(R,Q)\n",
        "    err = qr_fehler(AI)\n",
        "    errs.append(err)\n",
        "    if iteration%10 == 0:\n",
        "      print(f\"curr err: {err}\")\n",
        "\n",
        "  eigs = []\n",
        "  for x in range(len(AI)):\n",
        "    eigs.append(AI[x,x])\n",
        "\n",
        "\n",
        "  return eigs, errs"
      ],
      "execution_count": 4,
      "outputs": []
    },
    {
      "cell_type": "code",
      "metadata": {
        "id": "465wuxAyl6Gv",
        "colab_type": "code",
        "colab": {
          "base_uri": "https://localhost:8080/",
          "height": 136
        },
        "outputId": "0ee78f7c-c1b7-4036-9de4-6a67314a89e7"
      },
      "source": [
        "DA, errsa = qr1(A, maxIter=1000)\n",
        "print(f\"Sol: {DA}, iterations: {len(errsa)}\")"
      ],
      "execution_count": 5,
      "outputs": [
        {
          "output_type": "stream",
          "text": [
            "curr err: 0.0462019886931826\n",
            "curr err: 0.013560643205910676\n",
            "curr err: 0.0517316419288405\n",
            "curr err: 0.002344550647827636\n",
            "curr err: 0.0015296844688961284\n",
            "curr err: 0.0010758914319542905\n",
            "Sol: [4.0615792986173815, 3.9384207013826305, 0.9999999999999989], iterations: 64\n"
          ],
          "name": "stdout"
        }
      ]
    },
    {
      "cell_type": "code",
      "metadata": {
        "id": "T7mlgQxbnd0k",
        "colab_type": "code",
        "colab": {
          "base_uri": "https://localhost:8080/",
          "height": 34
        },
        "outputId": "b4d94e3a-5f0e-4bb1-9b31-8d72ab301e60"
      },
      "source": [
        "scl.eigvals(A)"
      ],
      "execution_count": 9,
      "outputs": [
        {
          "output_type": "execute_result",
          "data": {
            "text/plain": [
              "array([4.00000002+0.j, 3.99999998+0.j, 1.        +0.j])"
            ]
          },
          "metadata": {
            "tags": []
          },
          "execution_count": 9
        }
      ]
    },
    {
      "cell_type": "code",
      "metadata": {
        "id": "LLMFMs2GqXUk",
        "colab_type": "code",
        "colab": {
          "base_uri": "https://localhost:8080/",
          "height": 119
        },
        "outputId": "7e2617f3-ed54-4fa5-c72e-9a8a82aa51f3"
      },
      "source": [
        "DB, errsb = qr1(B, maxIter=1000)"
      ],
      "execution_count": 10,
      "outputs": [
        {
          "output_type": "stream",
          "text": [
            "curr err: 0.0957090798245661\n",
            "curr err: 0.011327572144548265\n",
            "curr err: 0.004799743176386571\n",
            "curr err: 0.002710822667212885\n",
            "curr err: 0.0017526607209213771\n",
            "curr err: 0.0012290357719098655\n"
          ],
          "name": "stdout"
        }
      ]
    },
    {
      "cell_type": "code",
      "metadata": {
        "id": "DuLSVy2kq5Dd",
        "colab_type": "code",
        "colab": {
          "base_uri": "https://localhost:8080/",
          "height": 34
        },
        "outputId": "503df5ed-0681-4d70-d612-16e3de516346"
      },
      "source": [
        "DB"
      ],
      "execution_count": 11,
      "outputs": [
        {
          "output_type": "execute_result",
          "data": {
            "text/plain": [
              "[3.095117395426942, 2.990612090068653, 2.914270514504402]"
            ]
          },
          "metadata": {
            "tags": []
          },
          "execution_count": 11
        }
      ]
    },
    {
      "cell_type": "code",
      "metadata": {
        "id": "huoN0OSQez2v",
        "colab_type": "code",
        "colab": {
          "base_uri": "https://localhost:8080/",
          "height": 51
        },
        "outputId": "54c6ed2a-6836-464d-b262-c3b8b5ba3700"
      },
      "source": [
        "scl.eigvals(B)"
      ],
      "execution_count": 12,
      "outputs": [
        {
          "output_type": "execute_result",
          "data": {
            "text/plain": [
              "array([3.00000832+1.441312e-05j, 3.00000832-1.441312e-05j,\n",
              "       2.99998336+0.000000e+00j])"
            ]
          },
          "metadata": {
            "tags": []
          },
          "execution_count": 12
        }
      ]
    },
    {
      "cell_type": "code",
      "metadata": {
        "id": "IyHt5-0Kq7P7",
        "colab_type": "code",
        "colab": {
          "base_uri": "https://localhost:8080/",
          "height": 1000
        },
        "outputId": "73d91cfd-4cc6-431c-9529-ca6189b9e372"
      },
      "source": [
        "DD, errsd = qr1(D, maxIter=1000)\n",
        "print(f\"sol: {DD}iter: {len(errsd)}err0: {errsd[0]}\")"
      ],
      "execution_count": 13,
      "outputs": [
        {
          "output_type": "stream",
          "text": [
            "curr err: 0.3333333333333333\n",
            "curr err: 0.3333333333333333\n",
            "curr err: 0.3333333333333333\n",
            "curr err: 0.3333333333333333\n",
            "curr err: 0.3333333333333333\n",
            "curr err: 0.3333333333333333\n",
            "curr err: 0.3333333333333333\n",
            "curr err: 0.3333333333333333\n",
            "curr err: 0.3333333333333333\n",
            "curr err: 0.3333333333333333\n",
            "curr err: 0.3333333333333333\n",
            "curr err: 0.3333333333333333\n",
            "curr err: 0.3333333333333333\n",
            "curr err: 0.3333333333333333\n",
            "curr err: 0.3333333333333333\n",
            "curr err: 0.3333333333333333\n",
            "curr err: 0.3333333333333333\n",
            "curr err: 0.3333333333333333\n",
            "curr err: 0.3333333333333333\n",
            "curr err: 0.3333333333333333\n",
            "curr err: 0.3333333333333333\n",
            "curr err: 0.3333333333333333\n",
            "curr err: 0.3333333333333333\n",
            "curr err: 0.3333333333333333\n",
            "curr err: 0.3333333333333333\n",
            "curr err: 0.3333333333333333\n",
            "curr err: 0.3333333333333333\n",
            "curr err: 0.3333333333333333\n",
            "curr err: 0.3333333333333333\n",
            "curr err: 0.3333333333333333\n",
            "curr err: 0.3333333333333333\n",
            "curr err: 0.3333333333333333\n",
            "curr err: 0.3333333333333333\n",
            "curr err: 0.3333333333333333\n",
            "curr err: 0.3333333333333333\n",
            "curr err: 0.3333333333333333\n",
            "curr err: 0.3333333333333333\n",
            "curr err: 0.3333333333333333\n",
            "curr err: 0.3333333333333333\n",
            "curr err: 0.3333333333333333\n",
            "curr err: 0.3333333333333333\n",
            "curr err: 0.3333333333333333\n",
            "curr err: 0.3333333333333333\n",
            "curr err: 0.3333333333333333\n",
            "curr err: 0.3333333333333333\n",
            "curr err: 0.3333333333333333\n",
            "curr err: 0.3333333333333333\n",
            "curr err: 0.3333333333333333\n",
            "curr err: 0.3333333333333333\n",
            "curr err: 0.3333333333333333\n",
            "curr err: 0.3333333333333333\n",
            "curr err: 0.3333333333333333\n",
            "curr err: 0.3333333333333333\n",
            "curr err: 0.3333333333333333\n",
            "curr err: 0.3333333333333333\n",
            "curr err: 0.3333333333333333\n",
            "curr err: 0.3333333333333333\n",
            "curr err: 0.3333333333333333\n",
            "curr err: 0.3333333333333333\n",
            "curr err: 0.3333333333333333\n",
            "curr err: 0.3333333333333333\n",
            "curr err: 0.3333333333333333\n",
            "curr err: 0.3333333333333333\n",
            "curr err: 0.3333333333333333\n",
            "curr err: 0.3333333333333333\n",
            "curr err: 0.3333333333333333\n",
            "curr err: 0.3333333333333333\n",
            "curr err: 0.3333333333333333\n",
            "curr err: 0.3333333333333333\n",
            "curr err: 0.3333333333333333\n",
            "curr err: 0.3333333333333333\n",
            "curr err: 0.3333333333333333\n",
            "curr err: 0.3333333333333333\n",
            "curr err: 0.3333333333333333\n",
            "curr err: 0.3333333333333333\n",
            "curr err: 0.3333333333333333\n",
            "curr err: 0.3333333333333333\n",
            "curr err: 0.3333333333333333\n",
            "curr err: 0.3333333333333333\n",
            "curr err: 0.3333333333333333\n",
            "curr err: 0.3333333333333333\n",
            "curr err: 0.3333333333333333\n",
            "curr err: 0.3333333333333333\n",
            "curr err: 0.3333333333333333\n",
            "curr err: 0.3333333333333333\n",
            "curr err: 0.3333333333333333\n",
            "curr err: 0.3333333333333333\n",
            "curr err: 0.3333333333333333\n",
            "curr err: 0.3333333333333333\n",
            "curr err: 0.3333333333333333\n",
            "curr err: 0.3333333333333333\n",
            "curr err: 0.3333333333333333\n",
            "curr err: 0.3333333333333333\n",
            "curr err: 0.3333333333333333\n",
            "curr err: 0.3333333333333333\n",
            "curr err: 0.3333333333333333\n",
            "curr err: 0.3333333333333333\n",
            "curr err: 0.3333333333333333\n",
            "curr err: 0.3333333333333333\n",
            "curr err: 0.3333333333333333\n",
            "sol: [0.0, 0.0, 0.0, 0.0]iter: 1001err0: 0.3333333333333333\n"
          ],
          "name": "stdout"
        }
      ]
    },
    {
      "cell_type": "code",
      "metadata": {
        "id": "W4Ow2AAGt567",
        "colab_type": "code",
        "colab": {
          "base_uri": "https://localhost:8080/",
          "height": 34
        },
        "outputId": "b29c9f24-6ea9-4e69-ab10-16cfef77af99"
      },
      "source": [
        "DC, errsc = qr1(C, maxIter=2)\n",
        "print(f\"sol: {DC}iter: {len(errsc)}err0: {errsc[0]}\")"
      ],
      "execution_count": 14,
      "outputs": [
        {
          "output_type": "stream",
          "text": [
            "sol: [-4.999999999999995, 15.999999999999448, 8.000000000000224, -18.999999999999677]iter: 3err0: 12.666666666666666\n"
          ],
          "name": "stdout"
        }
      ]
    },
    {
      "cell_type": "code",
      "metadata": {
        "id": "XxOXKEmduOZ3",
        "colab_type": "code",
        "colab": {}
      },
      "source": [
        ""
      ],
      "execution_count": 14,
      "outputs": []
    },
    {
      "cell_type": "markdown",
      "metadata": {
        "id": "TqR1R-5VWLzw",
        "colab_type": "text"
      },
      "source": [
        "### QR-Verfahren mit Shift"
      ]
    },
    {
      "cell_type": "code",
      "metadata": {
        "id": "tiHzI7rGf4MH",
        "colab_type": "code",
        "colab": {}
      },
      "source": [
        "import scipy.optimize as sco"
      ],
      "execution_count": 54,
      "outputs": []
    },
    {
      "cell_type": "code",
      "metadata": {
        "id": "ti40tb76ua_2",
        "colab_type": "code",
        "colab": {}
      },
      "source": [
        "def qr_fehler2(M):\n",
        "  z = len(M)-1\n",
        "  err1 = 0\n",
        "  err2 = 0\n",
        "  m1 = 0\n",
        "  m2 = 0\n",
        "  for i in range(z):\n",
        "    if i < z-1:\n",
        "      err1 += abs(M[z,i])\n",
        "      m1 += 1\n",
        "      err2 += abs(M[z,i])\n",
        "      err2 += abs(M[z-1,i])\n",
        "      m2 += 2\n",
        "    if i == z-1:\n",
        "      err1 += abs(M[z,i])\n",
        "      m1 += 1\n",
        "  if m2 == 0:\n",
        "    m2 = 1\n",
        "    err2 = 10\n",
        "  return (err1/m1, err2/m2)\n"
      ],
      "execution_count": 6,
      "outputs": []
    },
    {
      "cell_type": "code",
      "metadata": {
        "id": "2N7AxhG_ZYUJ",
        "colab_type": "code",
        "colab": {}
      },
      "source": [
        "def qrshiftstep(M, tol=1e-3, maxIter=10000):\n",
        "  AI = M\n",
        "  errs = []\n",
        "  err = qr_fehler2(AI)\n",
        "  errs.append(err)\n",
        "  iteration = 0\n",
        "  while (err[0] > tol) and (iteration < maxIter):\n",
        "    s = AI[-1,-1]\n",
        "    n,m = AI.shape\n",
        "    IM = np.eye(n,m)*s\n",
        "    DI = AI-IM\n",
        "    Q, R = scl.qr(DI)\n",
        "    AI = np.matmul(R,Q)+IM \n",
        "    err = qr_fehler2(AI)\n",
        "    errs.append(err)\n",
        "    iteration += 1\n",
        "\n",
        "  msg = 0\n",
        "  if iteration > maxIter:\n",
        "    if err[1] > tol:\n",
        "      msg = -1\n",
        "  return AI, errs, msg"
      ],
      "execution_count": 7,
      "outputs": []
    },
    {
      "cell_type": "code",
      "metadata": {
        "id": "ugzmroQWiaG8",
        "colab_type": "code",
        "colab": {}
      },
      "source": [
        "def shorten_matrix(M, tol=1e-3):\n",
        "  n,m = M.shape\n",
        "  wegrows = 0\n",
        "  eigvals = []\n",
        "  err_real, err_imag = qr_fehler2(M)\n",
        "  if err_real < tol:\n",
        "    for r in reversed(range(n)):\n",
        "      kannWeg = True\n",
        "      for x in range(m-1):\n",
        "        if not abs(M[r,x]) < tol:\n",
        "          kannWeg = False\n",
        "      if kannWeg:\n",
        "        wegrows += 1\n",
        "        eigvals.append(M[r,r])\n",
        "      else:\n",
        "        break\n",
        "    if wegrows == 0:\n",
        "      return M, None\n",
        "    else:\n",
        "      nn, nm = n-wegrows, m-wegrows\n",
        "      if nn == 0:\n",
        "        nn = 1\n",
        "      if nm == 0:\n",
        "        nm = 1\n",
        "      NM = M[:nn,:nm]\n",
        "      return NM, eigvals\n",
        "  else:\n",
        "    NM = M[:n-2,:m-2]\n",
        "    R = M[n-2:,m-2:]\n",
        "    vorne = -(-R[0,0]-R[1,1])/(2*(R[0,1]*R[1,0]-(R[0,0]*R[1,1])))\n",
        "    unterroot = (-R[0,0]-R[1,1])**2 - 4*(R[1,0]*R[0,1]-R[0,0]*R[1,1])\n",
        "    hinten = sc.sqrt(unterroot)/(2*(R[0,1]*R[1,0]-(R[0,0]*R[1,1])))\n",
        "    eigvals.append(vorne+hinten)\n",
        "    eigvals.append(vorne-hinten)\n",
        "    return NM, eigvals\n",
        "  print(\"Error: shorten_matrix should never end up here\")\n",
        "  return M, eigvals"
      ],
      "execution_count": 80,
      "outputs": []
    },
    {
      "cell_type": "code",
      "metadata": {
        "id": "VIO0H80JZOqE",
        "colab_type": "code",
        "colab": {}
      },
      "source": [
        "def qr2(M, tol=1e-3, maxIter=10000):\n",
        "  n,m = M.shape\n",
        "  ende = False \n",
        "  AI = M\n",
        "  errors = []\n",
        "  eigvals = []\n",
        "  while not ende:\n",
        "    AI, errs, msg = qrshiftstep(AI, tol, maxIter)\n",
        "    if msg == -1:\n",
        "      print('No convergence for tolerance. Now breaking')\n",
        "      return 0,0\n",
        "    print(f'qrshiftsteps: {AI}')\n",
        "    AI, vals = shorten_matrix(AI)\n",
        "    print(f'curr vals: {vals}')\n",
        "    if not len(vals) > 0:\n",
        "      print(f'Critical Error, no eigenvalues')\n",
        "      ende = True\n",
        "    else:\n",
        "      print(f'curr: {AI}')\n",
        "      eigvals.extend(vals)\n",
        "      errors.extend(errs)\n",
        "      n,m = AI.shape\n",
        "      if (n <= 1) or (m <= 1):\n",
        "        if (n==1) or (m == 1):\n",
        "          eigvals.append(AI[0,0])\n",
        "        ende = True\n",
        "  return eigvals, errors\n"
      ],
      "execution_count": 73,
      "outputs": []
    },
    {
      "cell_type": "code",
      "metadata": {
        "id": "UQwz7HYtp91w",
        "colab_type": "code",
        "colab": {
          "base_uri": "https://localhost:8080/",
          "height": 187
        },
        "outputId": "7e9677a2-90d1-4014-d588-1b244c78af2d"
      },
      "source": [
        "eig, errs = qr2(A, tol=1e-4)"
      ],
      "execution_count": 10,
      "outputs": [
        {
          "output_type": "stream",
          "text": [
            "qrshiftsteps: [[ 1.00000155e+00  6.00277748e-01 -4.48773049e+00]\n",
            " [ 7.74979056e-06  4.01082863e+00 -2.12125350e+00]\n",
            " [ 1.42324649e-10  5.52937691e-05  3.98916982e+00]]\n",
            "curr vals: [3.989169822723613]\n",
            "curr: [[1.00000155e+00 6.00277748e-01]\n",
            " [7.74979056e-06 4.01082863e+00]]\n",
            "qrshiftsteps: [[1.00000155e+00 6.00277748e-01]\n",
            " [7.74979056e-06 4.01082863e+00]]\n",
            "curr vals: [4.0108286321778825]\n",
            "curr: [[1.00000155]]\n"
          ],
          "name": "stdout"
        }
      ]
    },
    {
      "cell_type": "code",
      "metadata": {
        "id": "a0SE8__iqMtJ",
        "colab_type": "code",
        "colab": {
          "base_uri": "https://localhost:8080/",
          "height": 34
        },
        "outputId": "f7b5ba9a-eec6-43d7-d898-09966d6430ce"
      },
      "source": [
        "eig\n"
      ],
      "execution_count": 11,
      "outputs": [
        {
          "output_type": "execute_result",
          "data": {
            "text/plain": [
              "[3.989169822723613, 4.0108286321778825, 1.0000015450985074]"
            ]
          },
          "metadata": {
            "tags": []
          },
          "execution_count": 11
        }
      ]
    },
    {
      "cell_type": "code",
      "metadata": {
        "id": "AKeZ0UZ8rK2I",
        "colab_type": "code",
        "colab": {
          "base_uri": "https://localhost:8080/",
          "height": 187
        },
        "outputId": "d2a08616-4e9f-47e2-dd91-c66fddc96ee6"
      },
      "source": [
        "eigb, errsb2 = qr2(B)"
      ],
      "execution_count": 47,
      "outputs": [
        {
          "output_type": "stream",
          "text": [
            "qrshiftsteps: [[ 2.91448861e+00 -5.96560040e+00  6.79283436e+00]\n",
            " [ 7.46992470e-04  3.02863418e+00  1.50254614e+00]\n",
            " [ 5.22399491e-07 -8.19179490e-04  3.05687721e+00]]\n",
            "curr vals: [3.0568772099307413]\n",
            "curr: [[ 2.91448861e+00 -5.96560040e+00]\n",
            " [ 7.46992470e-04  3.02863418e+00]]\n",
            "qrshiftsteps: [[ 2.91448861e+00 -5.96560040e+00]\n",
            " [ 7.46992470e-04  3.02863418e+00]]\n",
            "curr vals: [3.028634175147]\n",
            "curr: [[2.91448861]]\n"
          ],
          "name": "stdout"
        }
      ]
    },
    {
      "cell_type": "code",
      "metadata": {
        "id": "EEsjtwWgswVk",
        "colab_type": "code",
        "colab": {
          "base_uri": "https://localhost:8080/",
          "height": 34
        },
        "outputId": "28b58261-b7f3-4ac6-c3e7-8c8eb1ebec11"
      },
      "source": [
        "eigb"
      ],
      "execution_count": 48,
      "outputs": [
        {
          "output_type": "execute_result",
          "data": {
            "text/plain": [
              "[3.0568772099307413, 3.028634175147, 2.914488614922254]"
            ]
          },
          "metadata": {
            "tags": []
          },
          "execution_count": 48
        }
      ]
    },
    {
      "cell_type": "code",
      "metadata": {
        "id": "60Ijq_XQsxo9",
        "colab_type": "code",
        "colab": {
          "base_uri": "https://localhost:8080/",
          "height": 136
        },
        "outputId": "77311630-e48c-4307-e67c-0ad968b525fb"
      },
      "source": [
        "eigc, errsc2 = qr2(C)"
      ],
      "execution_count": 49,
      "outputs": [
        {
          "output_type": "stream",
          "text": [
            "qrshiftsteps: [[  7.81553625  -0.33856817  -3.56345733  63.56529567]\n",
            " [ -2.31047402   1.56301503  -4.95447509 -27.85592519]\n",
            " [  2.51646773   4.11809126  -1.68510606   4.82449498]\n",
            " [ -1.2254727    0.28081237   0.3172816   -7.69344522]]\n",
            "Error: shorten_matrix should never end up here\n",
            "curr vals: []\n",
            "Critical Error, no eigenvalues\n"
          ],
          "name": "stdout"
        }
      ]
    },
    {
      "cell_type": "code",
      "metadata": {
        "id": "9G4KQI-Ks6n-",
        "colab_type": "code",
        "colab": {
          "base_uri": "https://localhost:8080/",
          "height": 136
        },
        "outputId": "b31e2047-4e17-4629-abdc-f0a12df1abba"
      },
      "source": [
        "eigd, errsd2 = qr2(D)"
      ],
      "execution_count": 50,
      "outputs": [
        {
          "output_type": "stream",
          "text": [
            "qrshiftsteps: [[ 0.  0.  0.  1.]\n",
            " [ 0.  0. -1.  0.]\n",
            " [ 0.  1.  0.  0.]\n",
            " [-1.  0.  0.  0.]]\n",
            "Error: shorten_matrix should never end up here\n",
            "curr vals: []\n",
            "Critical Error, no eigenvalues\n"
          ],
          "name": "stdout"
        }
      ]
    },
    {
      "cell_type": "markdown",
      "metadata": {
        "id": "Nz5cxoDptCi3",
        "colab_type": "text"
      },
      "source": [
        "### QR-Verfahren mit oberer Hessenbergform"
      ]
    },
    {
      "cell_type": "code",
      "metadata": {
        "id": "0Bd8HXAp1w03",
        "colab_type": "code",
        "colab": {}
      },
      "source": [
        "import math"
      ],
      "execution_count": 12,
      "outputs": []
    },
    {
      "cell_type": "code",
      "metadata": {
        "id": "S-bT1fU677TY",
        "colab_type": "code",
        "colab": {}
      },
      "source": [
        "def householderspiegelung(M):\n",
        "  n,m = M.shape\n",
        "  vec = M[1:,0].transpose()\n",
        "  housevector = vec + math.copysign(scl.norm(vec), vec[0,0])*np.eye(1, n-1)\n",
        "  scal = 2/ np.dot(housevector, housevector.transpose())\n",
        "  M[1,0] = math.copysign(scl.norm(vec), -1*vec[0,0])\n",
        "  for i in range(2,m):\n",
        "    M[i,0] = 0\n",
        "  vecs = np.array([])\n",
        "  for z in range(1,n):\n",
        "    vector = M[1:,z].transpose()\n",
        "    vector_ = vector - scal*np.dot(housevector,vector.transpose())*housevector\n",
        "    #print(f\"1.{z}: {vector} -> {vector_}\")\n",
        "    for i in range(1,n):\n",
        "      M[i,z] = vector_[0,i-1]\n",
        "  #print(f\"Matrix nach erster Iteration: {M}\")\n",
        "  for r in range(0,n):\n",
        "    vector = M[r,1:]\n",
        "    row = vector - scal*np.dot(vector,housevector.transpose())*housevector\n",
        "    #print(f'2.{r}: {vector} -> {row}')\n",
        "    _,l = row.shape\n",
        "    for x in range(l):\n",
        "      M[r,x+1] = row[0,x]\n",
        "\n",
        "  return M\n"
      ],
      "execution_count": 13,
      "outputs": []
    },
    {
      "cell_type": "code",
      "metadata": {
        "id": "V-Wd2U3NtQ5g",
        "colab_type": "code",
        "colab": {}
      },
      "source": [
        "def hessenberg(M):\n",
        "  n,m = M.shape\n",
        "  retM = M\n",
        "  XM = M\n",
        "  newM = M\n",
        "  for x in range(n-2):\n",
        "    newM = householderspiegelung(XM)\n",
        "    r,c = newM.shape\n",
        "    for xr in range(r):\n",
        "      for yc in range(c):\n",
        "        retM[x+xr,x+yc] = newM[xr,yc]\n",
        "    XM = newM[1:,1:]\n",
        "  return retM\n"
      ],
      "execution_count": 14,
      "outputs": []
    },
    {
      "cell_type": "code",
      "metadata": {
        "id": "xNTMX_nIs_dq",
        "colab_type": "code",
        "colab": {}
      },
      "source": [
        "def qr3(M, tol=1e-3, maxIter=10000):\n",
        "  nM = hessenberg(M)\n",
        "  eigen, errs = qr2(nM, tol, maxIter)\n",
        "  return eigen, errs"
      ],
      "execution_count": 15,
      "outputs": []
    },
    {
      "cell_type": "code",
      "metadata": {
        "id": "edgQIOar9iyN",
        "colab_type": "code",
        "colab": {
          "base_uri": "https://localhost:8080/",
          "height": 238
        },
        "outputId": "4957dbbe-79bd-46a6-9f7a-9e741a7bed22"
      },
      "source": [
        "alpha = np.matrix('2 1 0; 3 5 -5; 4 0 0', dtype=float)\n",
        "print(alpha)\n",
        "hess_ = householderspiegelung(alpha)\n",
        "print(hess_)"
      ],
      "execution_count": null,
      "outputs": [
        {
          "output_type": "stream",
          "text": [
            "[[ 2.  1.  0.]\n",
            " [ 3.  5. -5.]\n",
            " [ 4.  0.  0.]]\n",
            "1.1: [[5. 0.]] -> [[-3. -4.]]\n",
            "1.2: [[-5.  0.]] -> [[3. 4.]]\n",
            "Matrix nach erster Iteration: [[ 2.  1.  0.]\n",
            " [-5. -3.  3.]\n",
            " [ 0. -4.  4.]]\n",
            "2.1: [[-3.  3.]] -> [[-0.6  4.2]]\n",
            "2.2: [[-4.  4.]] -> [[-0.8  5.6]]\n",
            "[[ 2.   1.   0. ]\n",
            " [-5.  -0.6  4.2]\n",
            " [ 0.  -0.8  5.6]]\n"
          ],
          "name": "stdout"
        }
      ]
    },
    {
      "cell_type": "code",
      "metadata": {
        "id": "nQIlBvtDAXe2",
        "colab_type": "code",
        "colab": {
          "base_uri": "https://localhost:8080/",
          "height": 187
        },
        "outputId": "c56b62c3-421b-4ef8-ec01-eb23b4524399"
      },
      "source": [
        "hessenberg(alpha)"
      ],
      "execution_count": null,
      "outputs": [
        {
          "output_type": "stream",
          "text": [
            "1.1: [[-0.6 -0.8]] -> [[ 0.6 -0.8]]\n",
            "1.2: [[4.2 5.6]] -> [[-4.2  5.6]]\n",
            "Matrix nach erster Iteration: [[ 2.   1.   0. ]\n",
            " [ 5.   0.6 -4.2]\n",
            " [ 0.  -0.8  5.6]]\n",
            "2.1: [[ 0.6 -4.2]] -> [[-0.6 -4.2]]\n",
            "2.2: [[-0.8  5.6]] -> [[0.8 5.6]]\n"
          ],
          "name": "stdout"
        },
        {
          "output_type": "execute_result",
          "data": {
            "text/plain": [
              "matrix([[ 2. ,  1. ,  0. ],\n",
              "        [ 5. , -0.6, -4.2],\n",
              "        [ 0. ,  0.8,  5.6]])"
            ]
          },
          "metadata": {
            "tags": []
          },
          "execution_count": 107
        }
      ]
    },
    {
      "cell_type": "code",
      "metadata": {
        "id": "blka3ZDORCL9",
        "colab_type": "code",
        "colab": {
          "base_uri": "https://localhost:8080/",
          "height": 374
        },
        "outputId": "7e483420-7d39-4bf3-b843-ddd23fc1c0f2"
      },
      "source": [
        "hessenberg(np.matrix('1 2 1 2; 3 1 3 2; 6 1 2 2; 6 1 3 4', dtype=float))"
      ],
      "execution_count": null,
      "outputs": [
        {
          "output_type": "stream",
          "text": [
            "1.1: [[1. 1. 1.]] -> [[-1.66666667 -0.33333333 -0.33333333]]\n",
            "1.2: [[3. 2. 3.]] -> [[-4.33333333 -1.66666667 -0.66666667]]\n",
            "1.3: [[2. 2. 4.]] -> [[-4.66666667 -1.33333333  0.66666667]]\n",
            "Matrix nach erster Iteration: [[ 1.          2.          1.          2.        ]\n",
            " [-9.         -1.66666667 -4.33333333 -4.66666667]\n",
            " [ 0.         -0.33333333 -1.66666667 -1.33333333]\n",
            " [ 0.         -0.33333333 -0.66666667  0.66666667]]\n",
            "2.1: [[-1.66666667 -4.33333333 -4.66666667]] -> [[ 6.55555556 -0.22222222 -0.55555556]]\n",
            "2.2: [[-0.33333333 -1.66666667 -1.33333333]] -> [[ 2.11111111 -0.44444444 -0.11111111]]\n",
            "2.3: [[-0.33333333 -0.66666667  0.66666667]] -> [[ 0.11111111 -0.44444444  0.88888889]]\n",
            "1.1: [[-0.44444444 -0.44444444]] -> [[ 0.46718963 -0.42047066]]\n",
            "1.2: [[-0.11111111  0.88888889]] -> [[0.06423857 0.89350016]]\n",
            "Matrix nach erster Iteration: [[ 6.55555556 -0.22222222 -0.55555556]\n",
            " [-2.11403307  0.46718963  0.06423857]\n",
            " [ 0.         -0.42047066  0.89350016]]\n",
            "2.1: [[0.46718963 0.06423857]] -> [[-0.4699202   0.03959484]]\n",
            "2.2: [[-0.42047066  0.89350016]] -> [[0.37292818 0.91436464]]\n"
          ],
          "name": "stdout"
        },
        {
          "output_type": "execute_result",
          "data": {
            "text/plain": [
              "matrix([[ 1.        ,  2.        ,  1.        ,  2.        ],\n",
              "        [-9.        ,  6.55555556, -0.22222222, -0.55555556],\n",
              "        [ 0.        , -2.11403307, -0.4699202 ,  0.03959484],\n",
              "        [ 0.        ,  0.        ,  0.37292818,  0.91436464]])"
            ]
          },
          "metadata": {
            "tags": []
          },
          "execution_count": 110
        }
      ]
    },
    {
      "cell_type": "code",
      "metadata": {
        "id": "lFoZIX91RWaf",
        "colab_type": "code",
        "colab": {
          "base_uri": "https://localhost:8080/",
          "height": 204
        },
        "outputId": "57cae94e-fdcb-4da4-c27b-eb8e6c8fe874"
      },
      "source": [
        "eigena, errsac = qr3(A, tol=1e-4)"
      ],
      "execution_count": 62,
      "outputs": [
        {
          "output_type": "stream",
          "text": [
            "qrshiftsteps: [[ 3.00641009e+00  2.85192604e+00 -2.72818069e+00]\n",
            " [-1.29002846e+00  5.15990267e+00 -2.09791396e+00]\n",
            " [ 0.00000000e+00  5.69072567e-09  8.33687249e-01]]\n",
            "curr vals: [0.8336872490875357]\n",
            "curr: [[ 3.00641009  2.85192604]\n",
            " [-1.29002846  5.15990267]]\n",
            "qrshiftsteps: [[ 4.83370966  0.97282728]\n",
            " [-3.16912722  3.3326031 ]]\n",
            "Error: shorten_matrix should never end up here\n",
            "curr vals: []\n",
            "Critical Error, no eigenvalues\n"
          ],
          "name": "stdout"
        }
      ]
    },
    {
      "cell_type": "code",
      "metadata": {
        "id": "N9ozdVwrUvni",
        "colab_type": "code",
        "colab": {
          "base_uri": "https://localhost:8080/",
          "height": 51
        },
        "outputId": "74ecd28e-10f0-47d9-a0ef-1bdb86ec65d5"
      },
      "source": [
        "scl.eigvals(C)"
      ],
      "execution_count": null,
      "outputs": [
        {
          "output_type": "execute_result",
          "data": {
            "text/plain": [
              "array([-1.66964532e+01+0.j,  1.66964532e+01+0.j,  7.77156117e-16+5.j,\n",
              "        7.77156117e-16-5.j])"
            ]
          },
          "metadata": {
            "tags": []
          },
          "execution_count": 134
        }
      ]
    },
    {
      "cell_type": "code",
      "metadata": {
        "id": "QX64HeKzYrhG",
        "colab_type": "code",
        "colab": {
          "base_uri": "https://localhost:8080/",
          "height": 153
        },
        "outputId": "dd68dfde-efc1-48a5-813a-7c3258a3ba74"
      },
      "source": [
        "HA = hessenberg(C)\n",
        "HA"
      ],
      "execution_count": 67,
      "outputs": [
        {
          "output_type": "execute_result",
          "data": {
            "text/plain": [
              "matrix([[-5.00000000e+00, -1.97027602e+00, -5.11037363e+00,\n",
              "          1.39643150e+01],\n",
              "        [ 2.53771551e+01,  5.00000000e+00,  7.20917209e+00,\n",
              "         -6.10231848e+01],\n",
              "        [ 0.00000000e+00,  1.77635684e-15, -2.91292250e+00,\n",
              "          1.78241194e+01],\n",
              "        [ 0.00000000e+00,  0.00000000e+00, -1.87864078e+00,\n",
              "          2.91292250e+00]])"
            ]
          },
          "metadata": {
            "tags": []
          },
          "execution_count": 67
        }
      ]
    },
    {
      "cell_type": "code",
      "metadata": {
        "id": "-DSWiUB0sZCl",
        "colab_type": "code",
        "colab": {
          "base_uri": "https://localhost:8080/",
          "height": 324
        },
        "outputId": "2c7793ae-7de6-4d92-9348-29e90eb7dc5a"
      },
      "source": [
        "HE = scl.hessenberg(D)\n",
        "HE"
      ],
      "execution_count": 53,
      "outputs": [
        {
          "output_type": "error",
          "ename": "ValueError",
          "evalue": "ignored",
          "traceback": [
            "\u001b[0;31m---------------------------------------------------------------------------\u001b[0m",
            "\u001b[0;31mValueError\u001b[0m                                Traceback (most recent call last)",
            "\u001b[0;32m<ipython-input-53-9f5d44a3abb6>\u001b[0m in \u001b[0;36m<module>\u001b[0;34m()\u001b[0m\n\u001b[0;32m----> 1\u001b[0;31m \u001b[0mHE\u001b[0m \u001b[0;34m=\u001b[0m \u001b[0mscl\u001b[0m\u001b[0;34m.\u001b[0m\u001b[0mhessenberg\u001b[0m\u001b[0;34m(\u001b[0m\u001b[0mD\u001b[0m\u001b[0;34m)\u001b[0m\u001b[0;34m\u001b[0m\u001b[0;34m\u001b[0m\u001b[0m\n\u001b[0m\u001b[1;32m      2\u001b[0m \u001b[0mHE\u001b[0m\u001b[0;34m\u001b[0m\u001b[0;34m\u001b[0m\u001b[0m\n",
            "\u001b[0;32m/usr/local/lib/python3.6/dist-packages/scipy/linalg/decomp.py\u001b[0m in \u001b[0;36mhessenberg\u001b[0;34m(a, calc_q, overwrite_a, check_finite)\u001b[0m\n\u001b[1;32m   1250\u001b[0m     \u001b[0;32mTrue\u001b[0m\u001b[0;34m\u001b[0m\u001b[0;34m\u001b[0m\u001b[0m\n\u001b[1;32m   1251\u001b[0m     \"\"\"\n\u001b[0;32m-> 1252\u001b[0;31m     \u001b[0ma1\u001b[0m \u001b[0;34m=\u001b[0m \u001b[0m_asarray_validated\u001b[0m\u001b[0;34m(\u001b[0m\u001b[0ma\u001b[0m\u001b[0;34m,\u001b[0m \u001b[0mcheck_finite\u001b[0m\u001b[0;34m=\u001b[0m\u001b[0mcheck_finite\u001b[0m\u001b[0;34m)\u001b[0m\u001b[0;34m\u001b[0m\u001b[0;34m\u001b[0m\u001b[0m\n\u001b[0m\u001b[1;32m   1253\u001b[0m     \u001b[0;32mif\u001b[0m \u001b[0mlen\u001b[0m\u001b[0;34m(\u001b[0m\u001b[0ma1\u001b[0m\u001b[0;34m.\u001b[0m\u001b[0mshape\u001b[0m\u001b[0;34m)\u001b[0m \u001b[0;34m!=\u001b[0m \u001b[0;36m2\u001b[0m \u001b[0;32mor\u001b[0m \u001b[0;34m(\u001b[0m\u001b[0ma1\u001b[0m\u001b[0;34m.\u001b[0m\u001b[0mshape\u001b[0m\u001b[0;34m[\u001b[0m\u001b[0;36m0\u001b[0m\u001b[0;34m]\u001b[0m \u001b[0;34m!=\u001b[0m \u001b[0ma1\u001b[0m\u001b[0;34m.\u001b[0m\u001b[0mshape\u001b[0m\u001b[0;34m[\u001b[0m\u001b[0;36m1\u001b[0m\u001b[0;34m]\u001b[0m\u001b[0;34m)\u001b[0m\u001b[0;34m:\u001b[0m\u001b[0;34m\u001b[0m\u001b[0;34m\u001b[0m\u001b[0m\n\u001b[1;32m   1254\u001b[0m         \u001b[0;32mraise\u001b[0m \u001b[0mValueError\u001b[0m\u001b[0;34m(\u001b[0m\u001b[0;34m'expected square matrix'\u001b[0m\u001b[0;34m)\u001b[0m\u001b[0;34m\u001b[0m\u001b[0;34m\u001b[0m\u001b[0m\n",
            "\u001b[0;32m/usr/local/lib/python3.6/dist-packages/scipy/_lib/_util.py\u001b[0m in \u001b[0;36m_asarray_validated\u001b[0;34m(a, check_finite, sparse_ok, objects_ok, mask_ok, as_inexact)\u001b[0m\n\u001b[1;32m    244\u001b[0m             \u001b[0;32mraise\u001b[0m \u001b[0mValueError\u001b[0m\u001b[0;34m(\u001b[0m\u001b[0;34m'masked arrays are not supported'\u001b[0m\u001b[0;34m)\u001b[0m\u001b[0;34m\u001b[0m\u001b[0;34m\u001b[0m\u001b[0m\n\u001b[1;32m    245\u001b[0m     \u001b[0mtoarray\u001b[0m \u001b[0;34m=\u001b[0m \u001b[0mnp\u001b[0m\u001b[0;34m.\u001b[0m\u001b[0masarray_chkfinite\u001b[0m \u001b[0;32mif\u001b[0m \u001b[0mcheck_finite\u001b[0m \u001b[0;32melse\u001b[0m \u001b[0mnp\u001b[0m\u001b[0;34m.\u001b[0m\u001b[0masarray\u001b[0m\u001b[0;34m\u001b[0m\u001b[0;34m\u001b[0m\u001b[0m\n\u001b[0;32m--> 246\u001b[0;31m     \u001b[0ma\u001b[0m \u001b[0;34m=\u001b[0m \u001b[0mtoarray\u001b[0m\u001b[0;34m(\u001b[0m\u001b[0ma\u001b[0m\u001b[0;34m)\u001b[0m\u001b[0;34m\u001b[0m\u001b[0;34m\u001b[0m\u001b[0m\n\u001b[0m\u001b[1;32m    247\u001b[0m     \u001b[0;32mif\u001b[0m \u001b[0;32mnot\u001b[0m \u001b[0mobjects_ok\u001b[0m\u001b[0;34m:\u001b[0m\u001b[0;34m\u001b[0m\u001b[0;34m\u001b[0m\u001b[0m\n\u001b[1;32m    248\u001b[0m         \u001b[0;32mif\u001b[0m \u001b[0ma\u001b[0m\u001b[0;34m.\u001b[0m\u001b[0mdtype\u001b[0m \u001b[0;32mis\u001b[0m \u001b[0mnp\u001b[0m\u001b[0;34m.\u001b[0m\u001b[0mdtype\u001b[0m\u001b[0;34m(\u001b[0m\u001b[0;34m'O'\u001b[0m\u001b[0;34m)\u001b[0m\u001b[0;34m:\u001b[0m\u001b[0;34m\u001b[0m\u001b[0;34m\u001b[0m\u001b[0m\n",
            "\u001b[0;32m/usr/local/lib/python3.6/dist-packages/numpy/lib/function_base.py\u001b[0m in \u001b[0;36masarray_chkfinite\u001b[0;34m(a, dtype, order)\u001b[0m\n\u001b[1;32m    497\u001b[0m     \u001b[0;32mif\u001b[0m \u001b[0ma\u001b[0m\u001b[0;34m.\u001b[0m\u001b[0mdtype\u001b[0m\u001b[0;34m.\u001b[0m\u001b[0mchar\u001b[0m \u001b[0;32min\u001b[0m \u001b[0mtypecodes\u001b[0m\u001b[0;34m[\u001b[0m\u001b[0;34m'AllFloat'\u001b[0m\u001b[0;34m]\u001b[0m \u001b[0;32mand\u001b[0m \u001b[0;32mnot\u001b[0m \u001b[0mnp\u001b[0m\u001b[0;34m.\u001b[0m\u001b[0misfinite\u001b[0m\u001b[0;34m(\u001b[0m\u001b[0ma\u001b[0m\u001b[0;34m)\u001b[0m\u001b[0;34m.\u001b[0m\u001b[0mall\u001b[0m\u001b[0;34m(\u001b[0m\u001b[0;34m)\u001b[0m\u001b[0;34m:\u001b[0m\u001b[0;34m\u001b[0m\u001b[0;34m\u001b[0m\u001b[0m\n\u001b[1;32m    498\u001b[0m         raise ValueError(\n\u001b[0;32m--> 499\u001b[0;31m             \"array must not contain infs or NaNs\")\n\u001b[0m\u001b[1;32m    500\u001b[0m     \u001b[0;32mreturn\u001b[0m \u001b[0ma\u001b[0m\u001b[0;34m\u001b[0m\u001b[0;34m\u001b[0m\u001b[0m\n\u001b[1;32m    501\u001b[0m \u001b[0;34m\u001b[0m\u001b[0m\n",
            "\u001b[0;31mValueError\u001b[0m: array must not contain infs or NaNs"
          ]
        }
      ]
    },
    {
      "cell_type": "code",
      "metadata": {
        "id": "kj5H_PZ5scRH",
        "colab_type": "code",
        "colab": {
          "base_uri": "https://localhost:8080/",
          "height": 68
        },
        "outputId": "9811e576-8ad2-45dd-c470-de1664184f3c"
      },
      "source": [
        "Q,R = scl.qr(HE)\n",
        "HE = np.matmul(R,Q)\n",
        "print(HE)"
      ],
      "execution_count": 39,
      "outputs": [
        {
          "output_type": "stream",
          "text": [
            "[[ 4.17220408e+00  1.27096845e+00 -3.20707272e+00]\n",
            " [-2.33320074e-02  3.82779592e+00 -3.61102076e+00]\n",
            " [ 0.00000000e+00  1.12976599e-12  1.00000000e+00]]\n"
          ],
          "name": "stdout"
        }
      ]
    },
    {
      "cell_type": "code",
      "metadata": {
        "id": "VILD-IKMagbr",
        "colab_type": "code",
        "colab": {
          "base_uri": "https://localhost:8080/",
          "height": 272
        },
        "outputId": "bbb24e7e-6a18-41e7-9aeb-a47e6cd420d9"
      },
      "source": [
        "eig,errs = qr2(HA)"
      ],
      "execution_count": 74,
      "outputs": [
        {
          "output_type": "stream",
          "text": [
            "qrshiftsteps: [[ 1.54898409e+00 -2.63058628e+01 -4.36752565e+01 -4.52256734e+01]\n",
            " [ 1.04156826e+00 -1.54898409e+00 -1.55913151e+00 -6.44971362e+00]\n",
            " [ 0.00000000e+00 -4.07164352e-15  8.41139668e+00  1.09907199e+01]\n",
            " [ 0.00000000e+00  0.00000000e+00 -8.71204022e+00 -8.41139668e+00]]\n",
            "curr vals: [-0.05495510680206661, 0.7278668412759057]\n",
            "curr: [[  1.54898409 -26.30586284]\n",
            " [  1.04156826  -1.54898409]]\n"
          ],
          "name": "stdout"
        },
        {
          "output_type": "stream",
          "text": [
            "/usr/local/lib/python3.6/dist-packages/ipykernel_launcher.py:32: DeprecationWarning:\n",
            "\n",
            "scipy.sqrt is deprecated and will be removed in SciPy 2.0.0, use numpy.lib.scimath.sqrt instead\n",
            "\n"
          ],
          "name": "stderr"
        },
        {
          "output_type": "stream",
          "text": [
            "qrshiftsteps: [[  2.08235263 -26.22896562]\n",
            " [  1.11846547  -2.08235263]]\n",
            "curr vals: [-0.13335747674376242, 0.29994568716121756]\n",
            "curr: []\n"
          ],
          "name": "stdout"
        }
      ]
    },
    {
      "cell_type": "code",
      "metadata": {
        "id": "Y2y4wDjTa-JF",
        "colab_type": "code",
        "colab": {
          "base_uri": "https://localhost:8080/",
          "height": 85
        },
        "outputId": "d1b686e5-c668-42c6-daf1-d01fd6a5b52d"
      },
      "source": [
        "eig"
      ],
      "execution_count": 75,
      "outputs": [
        {
          "output_type": "execute_result",
          "data": {
            "text/plain": [
              "[-0.05495510680206661,\n",
              " 0.7278668412759057,\n",
              " -0.13335747674376242,\n",
              " 0.29994568716121756]"
            ]
          },
          "metadata": {
            "tags": []
          },
          "execution_count": 75
        }
      ]
    },
    {
      "cell_type": "code",
      "metadata": {
        "id": "_7DQT-KAa_6A",
        "colab_type": "code",
        "colab": {
          "base_uri": "https://localhost:8080/",
          "height": 51
        },
        "outputId": "f77f8fbd-bdc0-490d-b560-0f1899cac70b"
      },
      "source": [
        "scl.eigvals(C)"
      ],
      "execution_count": 77,
      "outputs": [
        {
          "output_type": "execute_result",
          "data": {
            "text/plain": [
              "array([1.27675648e-15+5.j, 1.27675648e-15-5.j, 7.21644966e-16+5.j,\n",
              "       7.21644966e-16-5.j])"
            ]
          },
          "metadata": {
            "tags": []
          },
          "execution_count": 77
        }
      ]
    },
    {
      "cell_type": "code",
      "metadata": {
        "id": "x8iXe5CbgPIp",
        "colab_type": "code",
        "colab": {
          "base_uri": "https://localhost:8080/",
          "height": 34
        },
        "outputId": "c6559f92-7c6b-4823-d8b5-ffce022561ca"
      },
      "source": [
        "tozero(0.654505520377543+0.344944796232937j)"
      ],
      "execution_count": 64,
      "outputs": [
        {
          "output_type": "execute_result",
          "data": {
            "text/plain": [
              "0.7031209046871104"
            ]
          },
          "metadata": {
            "tags": []
          },
          "execution_count": 64
        }
      ]
    },
    {
      "cell_type": "code",
      "metadata": {
        "id": "JdHV3kaJiaIa",
        "colab_type": "code",
        "colab": {
          "base_uri": "https://localhost:8080/",
          "height": 102
        },
        "outputId": "614b37a3-eee6-4be4-c4a6-09270d2c9b44"
      },
      "source": [
        "sc.sqrt(-1)"
      ],
      "execution_count": 65,
      "outputs": [
        {
          "output_type": "stream",
          "text": [
            "/usr/local/lib/python3.6/dist-packages/ipykernel_launcher.py:1: DeprecationWarning:\n",
            "\n",
            "scipy.sqrt is deprecated and will be removed in SciPy 2.0.0, use numpy.lib.scimath.sqrt instead\n",
            "\n"
          ],
          "name": "stderr"
        },
        {
          "output_type": "execute_result",
          "data": {
            "text/plain": [
              "1j"
            ]
          },
          "metadata": {
            "tags": []
          },
          "execution_count": 65
        }
      ]
    },
    {
      "cell_type": "code",
      "metadata": {
        "id": "7r6tSIeTnXO8",
        "colab_type": "code",
        "colab": {
          "base_uri": "https://localhost:8080/",
          "height": 272
        },
        "outputId": "8f4f5d96-ff7a-487c-9ee2-b0ac86533379"
      },
      "source": [
        "eig, err = qr2(C)"
      ],
      "execution_count": 81,
      "outputs": [
        {
          "output_type": "stream",
          "text": [
            "qrshiftsteps: [[ 1.54898409e+00 -2.63058628e+01 -4.36752565e+01 -4.52256734e+01]\n",
            " [ 1.04156826e+00 -1.54898409e+00 -1.55913151e+00 -6.44971362e+00]\n",
            " [ 0.00000000e+00 -4.07164352e-15  8.41139668e+00  1.09907199e+01]\n",
            " [ 0.00000000e+00  0.00000000e+00 -8.71204022e+00 -8.41139668e+00]]\n",
            "curr vals: [-0.19999999999999407, 0.20000000000000728]\n",
            "curr: [[  1.54898409 -26.30586284]\n",
            " [  1.04156826  -1.54898409]]\n"
          ],
          "name": "stdout"
        },
        {
          "output_type": "stream",
          "text": [
            "/usr/local/lib/python3.6/dist-packages/ipykernel_launcher.py:32: DeprecationWarning:\n",
            "\n",
            "scipy.sqrt is deprecated and will be removed in SciPy 2.0.0, use numpy.lib.scimath.sqrt instead\n",
            "\n"
          ],
          "name": "stderr"
        },
        {
          "output_type": "stream",
          "text": [
            "qrshiftsteps: [[  2.08235263 -26.22896562]\n",
            " [  1.11846547  -2.08235263]]\n",
            "curr vals: [-0.19999999999999196, 0.19999999999997758]\n",
            "curr: []\n"
          ],
          "name": "stdout"
        }
      ]
    },
    {
      "cell_type": "code",
      "metadata": {
        "id": "mEs8h9-rq8L5",
        "colab_type": "code",
        "colab": {
          "base_uri": "https://localhost:8080/",
          "height": 85
        },
        "outputId": "5289586c-4ada-46b2-9ad2-a1b5524d1bbf"
      },
      "source": [
        "eig"
      ],
      "execution_count": 82,
      "outputs": [
        {
          "output_type": "execute_result",
          "data": {
            "text/plain": [
              "[-0.19999999999999407,\n",
              " 0.20000000000000728,\n",
              " -0.19999999999999196,\n",
              " 0.19999999999997758]"
            ]
          },
          "metadata": {
            "tags": []
          },
          "execution_count": 82
        }
      ]
    },
    {
      "cell_type": "code",
      "metadata": {
        "id": "amK-5aD8q9vt",
        "colab_type": "code",
        "colab": {}
      },
      "source": [
        ""
      ],
      "execution_count": null,
      "outputs": []
    }
  ]
}