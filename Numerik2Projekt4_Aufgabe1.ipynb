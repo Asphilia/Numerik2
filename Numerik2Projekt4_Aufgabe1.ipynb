{
  "nbformat": 4,
  "nbformat_minor": 0,
  "metadata": {
    "colab": {
      "name": "Numerik2Projekt4_Aufgabe1.ipynb",
      "provenance": []
    },
    "kernelspec": {
      "name": "python3",
      "display_name": "Python 3"
    }
  },
  "cells": [
    {
      "cell_type": "code",
      "metadata": {
        "id": "YC6Gue4_inLo",
        "colab_type": "code",
        "colab": {}
      },
      "source": [
        "# imports\n",
        "import numpy as np\n",
        "import scipy as sc\n",
        "import scipy.linalg as scl\n",
        "import plotly.graph_objects as go\n",
        "import plotly.express as px"
      ],
      "execution_count": 1,
      "outputs": []
    },
    {
      "cell_type": "markdown",
      "metadata": {
        "id": "tY576guQi-Yv",
        "colab_type": "text"
      },
      "source": [
        "# Projekt 4 in Numerik 2\n",
        "Janike Katter"
      ]
    },
    {
      "cell_type": "markdown",
      "metadata": {
        "id": "hhX8iZfnjD0W",
        "colab_type": "text"
      },
      "source": [
        "## Aufgabe 1: QR-Verfahren"
      ]
    },
    {
      "cell_type": "code",
      "metadata": {
        "id": "EoXftnELl7zl",
        "colab_type": "code",
        "colab": {}
      },
      "source": [
        "# Beispiel Matrizen:\n",
        "A = np.matrix('5 4 2; 0 1 -1; -1 -1 3', dtype=float)\n",
        "B = np.matrix('-1 1 3; 3 3 -2; -5 2 7', dtype=float)\n",
        "C = np.matrix('-5 -10 -10 5; 4 16 11 -8; 12 13 8 -4; 22 48 28 -19', dtype=float)\n",
        "D = np.matrix('0 0 0 1; 0 0 -1 0; 0 1 0 0; -1 0 0 0', dtype=float)"
      ],
      "execution_count": 2,
      "outputs": []
    },
    {
      "cell_type": "markdown",
      "metadata": {
        "id": "ZZSPhnKljII7",
        "colab_type": "text"
      },
      "source": [
        "### Einfaches QR-Verfahren"
      ]
    },
    {
      "cell_type": "code",
      "metadata": {
        "id": "gJwc3fZvlBv9",
        "colab_type": "code",
        "colab": {}
      },
      "source": [
        "def qr_fehler(M):\n",
        "  err = 0\n",
        "  mm = 0\n",
        "  for i in range(len(M)):\n",
        "    for j in range(len(M[0])):\n",
        "      if not j >= i:\n",
        "        err += abs(M[i,j])\n",
        "        mm += 1\n",
        "\n",
        "  return err/mm"
      ],
      "execution_count": 3,
      "outputs": []
    },
    {
      "cell_type": "code",
      "metadata": {
        "id": "qK2AWv5gi0Yu",
        "colab_type": "code",
        "colab": {}
      },
      "source": [
        "def qr1(M, tol=1e-3, maxIter=1000000):\n",
        "  AI = M\n",
        "  err = qr_fehler(AI)\n",
        "  errs = []\n",
        "  errs.append(err)\n",
        "  iteration = 0\n",
        "  while (err > tol) and (iteration < maxIter):\n",
        "    iteration += 1\n",
        "    Q, R = scl.qr(AI)\n",
        "    AI = np.matmul(R,Q)\n",
        "    err = qr_fehler(AI)\n",
        "    errs.append(err)\n",
        "    if iteration%10 == 0:\n",
        "      print(f\"curr err: {err}\")\n",
        "\n",
        "  eigs = []\n",
        "  for x in range(len(AI)):\n",
        "    eigs.append(AI[x,x])\n",
        "\n",
        "\n",
        "  return eigs, errs"
      ],
      "execution_count": 7,
      "outputs": []
    },
    {
      "cell_type": "code",
      "metadata": {
        "id": "465wuxAyl6Gv",
        "colab_type": "code",
        "colab": {
          "base_uri": "https://localhost:8080/",
          "height": 136
        },
        "outputId": "c3112b81-88b7-47a4-cea9-a9b932622a94"
      },
      "source": [
        "DA, errsa = qr1(A, maxIter=1000)\n",
        "print(f\"Sol: {DA}, iterations: {len(errsa)}\")"
      ],
      "execution_count": 8,
      "outputs": [
        {
          "output_type": "stream",
          "text": [
            "curr err: 0.0462019886931826\n",
            "curr err: 0.013560643205910676\n",
            "curr err: 0.0517316419288405\n",
            "curr err: 0.002344550647827636\n",
            "curr err: 0.0015296844688961284\n",
            "curr err: 0.0010758914319542905\n",
            "Sol: [4.0615792986173815, 3.9384207013826305, 0.9999999999999989], iterations: 64\n"
          ],
          "name": "stdout"
        }
      ]
    },
    {
      "cell_type": "code",
      "metadata": {
        "id": "T7mlgQxbnd0k",
        "colab_type": "code",
        "colab": {
          "base_uri": "https://localhost:8080/",
          "height": 34
        },
        "outputId": "b4d94e3a-5f0e-4bb1-9b31-8d72ab301e60"
      },
      "source": [
        "scl.eigvals(A)"
      ],
      "execution_count": 9,
      "outputs": [
        {
          "output_type": "execute_result",
          "data": {
            "text/plain": [
              "array([4.00000002+0.j, 3.99999998+0.j, 1.        +0.j])"
            ]
          },
          "metadata": {
            "tags": []
          },
          "execution_count": 9
        }
      ]
    },
    {
      "cell_type": "code",
      "metadata": {
        "id": "LLMFMs2GqXUk",
        "colab_type": "code",
        "colab": {
          "base_uri": "https://localhost:8080/",
          "height": 119
        },
        "outputId": "7e2617f3-ed54-4fa5-c72e-9a8a82aa51f3"
      },
      "source": [
        "DB, errsb = qr1(B, maxIter=1000)"
      ],
      "execution_count": 10,
      "outputs": [
        {
          "output_type": "stream",
          "text": [
            "curr err: 0.0957090798245661\n",
            "curr err: 0.011327572144548265\n",
            "curr err: 0.004799743176386571\n",
            "curr err: 0.002710822667212885\n",
            "curr err: 0.0017526607209213771\n",
            "curr err: 0.0012290357719098655\n"
          ],
          "name": "stdout"
        }
      ]
    },
    {
      "cell_type": "code",
      "metadata": {
        "id": "DuLSVy2kq5Dd",
        "colab_type": "code",
        "colab": {
          "base_uri": "https://localhost:8080/",
          "height": 34
        },
        "outputId": "503df5ed-0681-4d70-d612-16e3de516346"
      },
      "source": [
        "DB"
      ],
      "execution_count": 11,
      "outputs": [
        {
          "output_type": "execute_result",
          "data": {
            "text/plain": [
              "[3.095117395426942, 2.990612090068653, 2.914270514504402]"
            ]
          },
          "metadata": {
            "tags": []
          },
          "execution_count": 11
        }
      ]
    },
    {
      "cell_type": "code",
      "metadata": {
        "id": "huoN0OSQez2v",
        "colab_type": "code",
        "colab": {
          "base_uri": "https://localhost:8080/",
          "height": 51
        },
        "outputId": "54c6ed2a-6836-464d-b262-c3b8b5ba3700"
      },
      "source": [
        "scl.eigvals(B)"
      ],
      "execution_count": 12,
      "outputs": [
        {
          "output_type": "execute_result",
          "data": {
            "text/plain": [
              "array([3.00000832+1.441312e-05j, 3.00000832-1.441312e-05j,\n",
              "       2.99998336+0.000000e+00j])"
            ]
          },
          "metadata": {
            "tags": []
          },
          "execution_count": 12
        }
      ]
    },
    {
      "cell_type": "code",
      "metadata": {
        "id": "IyHt5-0Kq7P7",
        "colab_type": "code",
        "colab": {
          "base_uri": "https://localhost:8080/",
          "height": 1000
        },
        "outputId": "73d91cfd-4cc6-431c-9529-ca6189b9e372"
      },
      "source": [
        "DD, errsd = qr1(D, maxIter=1000)\n",
        "print(f\"sol: {DD}iter: {len(errsd)}err0: {errsd[0]}\")"
      ],
      "execution_count": 13,
      "outputs": [
        {
          "output_type": "stream",
          "text": [
            "curr err: 0.3333333333333333\n",
            "curr err: 0.3333333333333333\n",
            "curr err: 0.3333333333333333\n",
            "curr err: 0.3333333333333333\n",
            "curr err: 0.3333333333333333\n",
            "curr err: 0.3333333333333333\n",
            "curr err: 0.3333333333333333\n",
            "curr err: 0.3333333333333333\n",
            "curr err: 0.3333333333333333\n",
            "curr err: 0.3333333333333333\n",
            "curr err: 0.3333333333333333\n",
            "curr err: 0.3333333333333333\n",
            "curr err: 0.3333333333333333\n",
            "curr err: 0.3333333333333333\n",
            "curr err: 0.3333333333333333\n",
            "curr err: 0.3333333333333333\n",
            "curr err: 0.3333333333333333\n",
            "curr err: 0.3333333333333333\n",
            "curr err: 0.3333333333333333\n",
            "curr err: 0.3333333333333333\n",
            "curr err: 0.3333333333333333\n",
            "curr err: 0.3333333333333333\n",
            "curr err: 0.3333333333333333\n",
            "curr err: 0.3333333333333333\n",
            "curr err: 0.3333333333333333\n",
            "curr err: 0.3333333333333333\n",
            "curr err: 0.3333333333333333\n",
            "curr err: 0.3333333333333333\n",
            "curr err: 0.3333333333333333\n",
            "curr err: 0.3333333333333333\n",
            "curr err: 0.3333333333333333\n",
            "curr err: 0.3333333333333333\n",
            "curr err: 0.3333333333333333\n",
            "curr err: 0.3333333333333333\n",
            "curr err: 0.3333333333333333\n",
            "curr err: 0.3333333333333333\n",
            "curr err: 0.3333333333333333\n",
            "curr err: 0.3333333333333333\n",
            "curr err: 0.3333333333333333\n",
            "curr err: 0.3333333333333333\n",
            "curr err: 0.3333333333333333\n",
            "curr err: 0.3333333333333333\n",
            "curr err: 0.3333333333333333\n",
            "curr err: 0.3333333333333333\n",
            "curr err: 0.3333333333333333\n",
            "curr err: 0.3333333333333333\n",
            "curr err: 0.3333333333333333\n",
            "curr err: 0.3333333333333333\n",
            "curr err: 0.3333333333333333\n",
            "curr err: 0.3333333333333333\n",
            "curr err: 0.3333333333333333\n",
            "curr err: 0.3333333333333333\n",
            "curr err: 0.3333333333333333\n",
            "curr err: 0.3333333333333333\n",
            "curr err: 0.3333333333333333\n",
            "curr err: 0.3333333333333333\n",
            "curr err: 0.3333333333333333\n",
            "curr err: 0.3333333333333333\n",
            "curr err: 0.3333333333333333\n",
            "curr err: 0.3333333333333333\n",
            "curr err: 0.3333333333333333\n",
            "curr err: 0.3333333333333333\n",
            "curr err: 0.3333333333333333\n",
            "curr err: 0.3333333333333333\n",
            "curr err: 0.3333333333333333\n",
            "curr err: 0.3333333333333333\n",
            "curr err: 0.3333333333333333\n",
            "curr err: 0.3333333333333333\n",
            "curr err: 0.3333333333333333\n",
            "curr err: 0.3333333333333333\n",
            "curr err: 0.3333333333333333\n",
            "curr err: 0.3333333333333333\n",
            "curr err: 0.3333333333333333\n",
            "curr err: 0.3333333333333333\n",
            "curr err: 0.3333333333333333\n",
            "curr err: 0.3333333333333333\n",
            "curr err: 0.3333333333333333\n",
            "curr err: 0.3333333333333333\n",
            "curr err: 0.3333333333333333\n",
            "curr err: 0.3333333333333333\n",
            "curr err: 0.3333333333333333\n",
            "curr err: 0.3333333333333333\n",
            "curr err: 0.3333333333333333\n",
            "curr err: 0.3333333333333333\n",
            "curr err: 0.3333333333333333\n",
            "curr err: 0.3333333333333333\n",
            "curr err: 0.3333333333333333\n",
            "curr err: 0.3333333333333333\n",
            "curr err: 0.3333333333333333\n",
            "curr err: 0.3333333333333333\n",
            "curr err: 0.3333333333333333\n",
            "curr err: 0.3333333333333333\n",
            "curr err: 0.3333333333333333\n",
            "curr err: 0.3333333333333333\n",
            "curr err: 0.3333333333333333\n",
            "curr err: 0.3333333333333333\n",
            "curr err: 0.3333333333333333\n",
            "curr err: 0.3333333333333333\n",
            "curr err: 0.3333333333333333\n",
            "curr err: 0.3333333333333333\n",
            "sol: [0.0, 0.0, 0.0, 0.0]iter: 1001err0: 0.3333333333333333\n"
          ],
          "name": "stdout"
        }
      ]
    },
    {
      "cell_type": "code",
      "metadata": {
        "id": "W4Ow2AAGt567",
        "colab_type": "code",
        "colab": {
          "base_uri": "https://localhost:8080/",
          "height": 34
        },
        "outputId": "b29c9f24-6ea9-4e69-ab10-16cfef77af99"
      },
      "source": [
        "DC, errsc = qr1(C, maxIter=2)\n",
        "print(f\"sol: {DC}iter: {len(errsc)}err0: {errsc[0]}\")"
      ],
      "execution_count": 14,
      "outputs": [
        {
          "output_type": "stream",
          "text": [
            "sol: [-4.999999999999995, 15.999999999999448, 8.000000000000224, -18.999999999999677]iter: 3err0: 12.666666666666666\n"
          ],
          "name": "stdout"
        }
      ]
    },
    {
      "cell_type": "code",
      "metadata": {
        "id": "XxOXKEmduOZ3",
        "colab_type": "code",
        "colab": {}
      },
      "source": [
        ""
      ],
      "execution_count": 14,
      "outputs": []
    },
    {
      "cell_type": "markdown",
      "metadata": {
        "id": "TqR1R-5VWLzw",
        "colab_type": "text"
      },
      "source": [
        "### QR-Verfahren mit Shift"
      ]
    },
    {
      "cell_type": "code",
      "metadata": {
        "id": "ti40tb76ua_2",
        "colab_type": "code",
        "colab": {}
      },
      "source": [
        "def qr_fehler2(M, tell=False):\n",
        "  z = len(M)-1\n",
        "  err1 = 0\n",
        "  err2 = 0\n",
        "  m1 = 0\n",
        "  m2 = 0\n",
        "  for i in range(len(M[z])):\n",
        "    if i < z-1:\n",
        "      err1 += abs(M[z,i])\n",
        "      m1 += 1\n",
        "      err2 += abs(M[z,i])\n",
        "      err2 += abs(M[z-1,i])\n",
        "      m2 += 2\n",
        "    elif i == z-1:\n",
        "      err1 += abs(M[z,i])\n",
        "      m1 += 1\n",
        "  if not tell:\n",
        "    return min(err1/m1, err2/m2)\n",
        "  else:\n",
        "    ret = min(err1/m1, err2/m2)\n",
        "    if ret == err1/m1:\n",
        "      # keine imaginären eigenwerte\n",
        "      return ret, 0\n",
        "    else:\n",
        "      # wahrscheinlich imaginäre eigenwerte\n",
        "      return ret, 1\n"
      ],
      "execution_count": 18,
      "outputs": []
    },
    {
      "cell_type": "code",
      "metadata": {
        "id": "2N7AxhG_ZYUJ",
        "colab_type": "code",
        "colab": {}
      },
      "source": [
        "def qrshiftstep(M, tol=1e-3, maxIter=10000):\n",
        "  AI = M\n",
        "  errs = []\n",
        "  err = qr_fehler(AI)\n",
        "  errs.append(err)\n",
        "  iteration = 0\n",
        "  while (err > tol) and (iteration < maxIter):\n",
        "    s = AI[-1,-1]\n",
        "    n,m = AI.shape\n",
        "    IM = np.eye(n,m)*s\n",
        "    DI = AI-IM\n",
        "    Q, R = scl.qr(DI)\n",
        "    AI = np.matmul(R,Q)+IM \n",
        "    err = qr_fehler2(AI)\n",
        "    errs.append(err)\n",
        "    iteration += 1\n",
        "\n",
        "  msg = 0\n",
        "  if iteration > maxIter:\n",
        "    msg = -1\n",
        "  return AI, errs, msg"
      ],
      "execution_count": 17,
      "outputs": []
    },
    {
      "cell_type": "code",
      "metadata": {
        "id": "ugzmroQWiaG8",
        "colab_type": "code",
        "colab": {}
      },
      "source": [
        "def shorten_matrix(M, tol=1e-3):\n",
        "  n,m = M.shape\n",
        "  wegrows = 0\n",
        "  eigvals = []\n",
        "  _, case = qr_fehler2(M, tell=True)\n",
        "  if case == 0:\n",
        "    for r in reversed(range(n)):\n",
        "      kannWeg = True\n",
        "      for x in range(m-1):\n",
        "        if not abs(M[r,x]) < tol:\n",
        "          kannWeg = False\n",
        "      if kannWeg:\n",
        "        wegrows += 1\n",
        "        eigvals.append(M[r,r])\n",
        "      else:\n",
        "        break\n",
        "    if wegrows == 0:\n",
        "      return M, None\n",
        "    else:\n",
        "      nn, nm = n-wegrows, m-wegrows\n",
        "      if nn == 0:\n",
        "        nn = 1\n",
        "      if nm == 0:\n",
        "        nm = 1\n",
        "      NM = M[:nn,:nm]\n",
        "    else:\n",
        "      \n",
        "    return NM, eigvals"
      ],
      "execution_count": null,
      "outputs": []
    },
    {
      "cell_type": "code",
      "metadata": {
        "id": "VIO0H80JZOqE",
        "colab_type": "code",
        "colab": {}
      },
      "source": [
        "def qr2(M, tol=1e-3, maxIter=10000):\n",
        "  n,m = M.shape\n",
        "  ende = False \n",
        "  AI = M\n",
        "  errors = []\n",
        "  eigvals = []\n",
        "  while not ende:\n",
        "    AI, errs = qrshiftstep(AI, tol, maxIter)\n",
        "    print(f'qrshiftsteps: {AI}')\n",
        "    AI, vals = shorten_matrix(AI)\n",
        "    if not vals:\n",
        "      print(f'Critical Error, no eigenvalues')\n",
        "      ende = True\n",
        "    else:\n",
        "      print(f'curr: {AI}')\n",
        "      eigvals.extend(vals)\n",
        "      errors.extend(errs)\n",
        "      n,m = AI.shape\n",
        "      if (n == 1) or (m == 1):\n",
        "        eigvals.append(AI[0,0])\n",
        "        ende = True\n",
        "  return eigvals, errors\n"
      ],
      "execution_count": null,
      "outputs": []
    },
    {
      "cell_type": "code",
      "metadata": {
        "id": "UQwz7HYtp91w",
        "colab_type": "code",
        "colab": {
          "base_uri": "https://localhost:8080/",
          "height": 153
        },
        "outputId": "7d703088-2945-4ae1-d0b6-d903fdb9c5c3"
      },
      "source": [
        "eig, errs = qr2(A, tol=1e-5)"
      ],
      "execution_count": null,
      "outputs": [
        {
          "output_type": "stream",
          "text": [
            "qrshiftsteps: [[ 9.99999989e-01  5.88811921e-01  4.48924271e+00]\n",
            " [-5.60563749e-08  4.00541513e+00  2.12130660e+00]\n",
            " [ 2.57830276e-13 -1.38233522e-05  3.99458488e+00]]\n",
            "curr: [[ 9.99999989e-01  5.88811921e-01]\n",
            " [-5.60563749e-08  4.00541513e+00]]\n",
            "qrshiftsteps: [[ 9.99999989e-01  5.88811921e-01]\n",
            " [-5.60563749e-08  4.00541513e+00]]\n",
            "curr: [[0.99999999]]\n"
          ],
          "name": "stdout"
        }
      ]
    },
    {
      "cell_type": "code",
      "metadata": {
        "id": "a0SE8__iqMtJ",
        "colab_type": "code",
        "colab": {
          "base_uri": "https://localhost:8080/",
          "height": 34
        },
        "outputId": "1b8c5941-2add-4fd9-dc45-f75aa2be3a2d"
      },
      "source": [
        "eig\n"
      ],
      "execution_count": null,
      "outputs": [
        {
          "output_type": "execute_result",
          "data": {
            "text/plain": [
              "[3.9945848760740263, 4.005415134908373, 0.9999999890176041]"
            ]
          },
          "metadata": {
            "tags": []
          },
          "execution_count": 45
        }
      ]
    },
    {
      "cell_type": "code",
      "metadata": {
        "id": "AKeZ0UZ8rK2I",
        "colab_type": "code",
        "colab": {
          "base_uri": "https://localhost:8080/",
          "height": 153
        },
        "outputId": "6fa32a4c-950e-4743-d181-2fdb3af1605a"
      },
      "source": [
        "eigb, errsb2 = qr2(B)"
      ],
      "execution_count": null,
      "outputs": [
        {
          "output_type": "stream",
          "text": [
            "qrshiftsteps: [[ 2.91448861e+00 -5.96560040e+00  6.79283436e+00]\n",
            " [ 7.46992470e-04  3.02863418e+00  1.50254614e+00]\n",
            " [ 5.22399491e-07 -8.19179490e-04  3.05687721e+00]]\n",
            "curr: [[ 2.91448861e+00 -5.96560040e+00]\n",
            " [ 7.46992470e-04  3.02863418e+00]]\n",
            "qrshiftsteps: [[ 2.91448861e+00 -5.96560040e+00]\n",
            " [ 7.46992470e-04  3.02863418e+00]]\n",
            "curr: [[2.91448861]]\n"
          ],
          "name": "stdout"
        }
      ]
    },
    {
      "cell_type": "code",
      "metadata": {
        "id": "EEsjtwWgswVk",
        "colab_type": "code",
        "colab": {
          "base_uri": "https://localhost:8080/",
          "height": 34
        },
        "outputId": "fd24162f-a73e-4f39-cc41-99c446d84256"
      },
      "source": [
        "eigb"
      ],
      "execution_count": null,
      "outputs": [
        {
          "output_type": "execute_result",
          "data": {
            "text/plain": [
              "[3.0568772099307413, 3.028634175147, 2.914488614922254]"
            ]
          },
          "metadata": {
            "tags": []
          },
          "execution_count": 47
        }
      ]
    },
    {
      "cell_type": "code",
      "metadata": {
        "id": "60Ijq_XQsxo9",
        "colab_type": "code",
        "colab": {
          "base_uri": "https://localhost:8080/",
          "height": 102
        },
        "outputId": "04f12548-e98e-4184-e6b9-374bf2614b75"
      },
      "source": [
        "eigc, errsc2 = qr2(C)"
      ],
      "execution_count": null,
      "outputs": [
        {
          "output_type": "stream",
          "text": [
            "qrshiftsteps: [[  7.81553625  -0.33856817  -3.56345733  63.56529567]\n",
            " [ -2.31047402   1.56301503  -4.95447509 -27.85592519]\n",
            " [  2.51646773   4.11809126  -1.68510606   4.82449498]\n",
            " [ -1.2254727    0.28081237   0.3172816   -7.69344522]]\n",
            "Critical Error, no eigenvalues\n"
          ],
          "name": "stdout"
        }
      ]
    },
    {
      "cell_type": "code",
      "metadata": {
        "id": "9G4KQI-Ks6n-",
        "colab_type": "code",
        "colab": {
          "base_uri": "https://localhost:8080/",
          "height": 102
        },
        "outputId": "472af062-2256-45da-9b24-87485578eea9"
      },
      "source": [
        "eigd, errsd2 = qr2(D)"
      ],
      "execution_count": null,
      "outputs": [
        {
          "output_type": "stream",
          "text": [
            "qrshiftsteps: [[ 0.  0.  0.  1.]\n",
            " [ 0.  0. -1.  0.]\n",
            " [ 0.  1.  0.  0.]\n",
            " [-1.  0.  0.  0.]]\n",
            "Critical Error, no eigenvalues\n"
          ],
          "name": "stdout"
        }
      ]
    },
    {
      "cell_type": "markdown",
      "metadata": {
        "id": "Nz5cxoDptCi3",
        "colab_type": "text"
      },
      "source": [
        "### QR-Verfahren mit oberer Hessenbergform"
      ]
    },
    {
      "cell_type": "code",
      "metadata": {
        "id": "0Bd8HXAp1w03",
        "colab_type": "code",
        "colab": {}
      },
      "source": [
        "import math"
      ],
      "execution_count": null,
      "outputs": []
    },
    {
      "cell_type": "code",
      "metadata": {
        "id": "S-bT1fU677TY",
        "colab_type": "code",
        "colab": {}
      },
      "source": [
        "def householderspiegelung(M):\n",
        "  n,m = M.shape\n",
        "  vec = M[1:,0].transpose()\n",
        "  housevector = vec + math.copysign(scl.norm(vec), vec[0,0])*np.eye(1, n-1)\n",
        "  scal = 2/ np.dot(housevector, housevector.transpose())\n",
        "  M[1,0] = math.copysign(scl.norm(vec), -1*vec[0,0])\n",
        "  for i in range(2,m):\n",
        "    M[i,0] = 0\n",
        "  vecs = np.array([])\n",
        "  for z in range(1,n):\n",
        "    vector = M[1:,z].transpose()\n",
        "    vector_ = vector - scal*np.dot(housevector,vector.transpose())*housevector\n",
        "    #print(f\"1.{z}: {vector} -> {vector_}\")\n",
        "    for i in range(1,n):\n",
        "      M[i,z] = vector_[0,i-1]\n",
        "  #print(f\"Matrix nach erster Iteration: {M}\")\n",
        "  for r in range(1,n):\n",
        "    vector = M[r,1:]\n",
        "    row = vector - scal*np.dot(vector,housevector.transpose())*housevector\n",
        "    #print(f'2.{r}: {vector} -> {row}')\n",
        "    _,l = row.shape\n",
        "    for x in range(l):\n",
        "      M[r,x+1] = row[0,x]\n",
        "\n",
        "  return M\n"
      ],
      "execution_count": null,
      "outputs": []
    },
    {
      "cell_type": "code",
      "metadata": {
        "id": "V-Wd2U3NtQ5g",
        "colab_type": "code",
        "colab": {}
      },
      "source": [
        "def hessenberg(M):\n",
        "  n,m = M.shape\n",
        "  retM = M\n",
        "  XM = M\n",
        "  newM = M\n",
        "  for x in range(n-2):\n",
        "    newM = householderspiegelung(XM)\n",
        "    r,c = newM.shape\n",
        "    for xr in range(r):\n",
        "      for yc in range(c):\n",
        "        retM[x+xr,x+yc] = newM[xr,yc]\n",
        "    XM = newM[1:,1:]\n",
        "  return retM\n"
      ],
      "execution_count": null,
      "outputs": []
    },
    {
      "cell_type": "code",
      "metadata": {
        "id": "xNTMX_nIs_dq",
        "colab_type": "code",
        "colab": {}
      },
      "source": [
        "def qr3(M, tol=1e-3, maxIter=10000):\n",
        "  nM = hessenberg(M)\n",
        "  eigen, errs = qr2(nM, tol, maxIter)\n",
        "  return eigen, errs"
      ],
      "execution_count": null,
      "outputs": []
    },
    {
      "cell_type": "code",
      "metadata": {
        "id": "edgQIOar9iyN",
        "colab_type": "code",
        "colab": {
          "base_uri": "https://localhost:8080/",
          "height": 238
        },
        "outputId": "4957dbbe-79bd-46a6-9f7a-9e741a7bed22"
      },
      "source": [
        "alpha = np.matrix('2 1 0; 3 5 -5; 4 0 0', dtype=float)\n",
        "print(alpha)\n",
        "hess_ = householderspiegelung(alpha)\n",
        "print(hess_)"
      ],
      "execution_count": null,
      "outputs": [
        {
          "output_type": "stream",
          "text": [
            "[[ 2.  1.  0.]\n",
            " [ 3.  5. -5.]\n",
            " [ 4.  0.  0.]]\n",
            "1.1: [[5. 0.]] -> [[-3. -4.]]\n",
            "1.2: [[-5.  0.]] -> [[3. 4.]]\n",
            "Matrix nach erster Iteration: [[ 2.  1.  0.]\n",
            " [-5. -3.  3.]\n",
            " [ 0. -4.  4.]]\n",
            "2.1: [[-3.  3.]] -> [[-0.6  4.2]]\n",
            "2.2: [[-4.  4.]] -> [[-0.8  5.6]]\n",
            "[[ 2.   1.   0. ]\n",
            " [-5.  -0.6  4.2]\n",
            " [ 0.  -0.8  5.6]]\n"
          ],
          "name": "stdout"
        }
      ]
    },
    {
      "cell_type": "code",
      "metadata": {
        "id": "nQIlBvtDAXe2",
        "colab_type": "code",
        "colab": {
          "base_uri": "https://localhost:8080/",
          "height": 187
        },
        "outputId": "c56b62c3-421b-4ef8-ec01-eb23b4524399"
      },
      "source": [
        "hessenberg(alpha)"
      ],
      "execution_count": null,
      "outputs": [
        {
          "output_type": "stream",
          "text": [
            "1.1: [[-0.6 -0.8]] -> [[ 0.6 -0.8]]\n",
            "1.2: [[4.2 5.6]] -> [[-4.2  5.6]]\n",
            "Matrix nach erster Iteration: [[ 2.   1.   0. ]\n",
            " [ 5.   0.6 -4.2]\n",
            " [ 0.  -0.8  5.6]]\n",
            "2.1: [[ 0.6 -4.2]] -> [[-0.6 -4.2]]\n",
            "2.2: [[-0.8  5.6]] -> [[0.8 5.6]]\n"
          ],
          "name": "stdout"
        },
        {
          "output_type": "execute_result",
          "data": {
            "text/plain": [
              "matrix([[ 2. ,  1. ,  0. ],\n",
              "        [ 5. , -0.6, -4.2],\n",
              "        [ 0. ,  0.8,  5.6]])"
            ]
          },
          "metadata": {
            "tags": []
          },
          "execution_count": 107
        }
      ]
    },
    {
      "cell_type": "code",
      "metadata": {
        "id": "blka3ZDORCL9",
        "colab_type": "code",
        "colab": {
          "base_uri": "https://localhost:8080/",
          "height": 374
        },
        "outputId": "7e483420-7d39-4bf3-b843-ddd23fc1c0f2"
      },
      "source": [
        "hessenberg(np.matrix('1 2 1 2; 3 1 3 2; 6 1 2 2; 6 1 3 4', dtype=float))"
      ],
      "execution_count": null,
      "outputs": [
        {
          "output_type": "stream",
          "text": [
            "1.1: [[1. 1. 1.]] -> [[-1.66666667 -0.33333333 -0.33333333]]\n",
            "1.2: [[3. 2. 3.]] -> [[-4.33333333 -1.66666667 -0.66666667]]\n",
            "1.3: [[2. 2. 4.]] -> [[-4.66666667 -1.33333333  0.66666667]]\n",
            "Matrix nach erster Iteration: [[ 1.          2.          1.          2.        ]\n",
            " [-9.         -1.66666667 -4.33333333 -4.66666667]\n",
            " [ 0.         -0.33333333 -1.66666667 -1.33333333]\n",
            " [ 0.         -0.33333333 -0.66666667  0.66666667]]\n",
            "2.1: [[-1.66666667 -4.33333333 -4.66666667]] -> [[ 6.55555556 -0.22222222 -0.55555556]]\n",
            "2.2: [[-0.33333333 -1.66666667 -1.33333333]] -> [[ 2.11111111 -0.44444444 -0.11111111]]\n",
            "2.3: [[-0.33333333 -0.66666667  0.66666667]] -> [[ 0.11111111 -0.44444444  0.88888889]]\n",
            "1.1: [[-0.44444444 -0.44444444]] -> [[ 0.46718963 -0.42047066]]\n",
            "1.2: [[-0.11111111  0.88888889]] -> [[0.06423857 0.89350016]]\n",
            "Matrix nach erster Iteration: [[ 6.55555556 -0.22222222 -0.55555556]\n",
            " [-2.11403307  0.46718963  0.06423857]\n",
            " [ 0.         -0.42047066  0.89350016]]\n",
            "2.1: [[0.46718963 0.06423857]] -> [[-0.4699202   0.03959484]]\n",
            "2.2: [[-0.42047066  0.89350016]] -> [[0.37292818 0.91436464]]\n"
          ],
          "name": "stdout"
        },
        {
          "output_type": "execute_result",
          "data": {
            "text/plain": [
              "matrix([[ 1.        ,  2.        ,  1.        ,  2.        ],\n",
              "        [-9.        ,  6.55555556, -0.22222222, -0.55555556],\n",
              "        [ 0.        , -2.11403307, -0.4699202 ,  0.03959484],\n",
              "        [ 0.        ,  0.        ,  0.37292818,  0.91436464]])"
            ]
          },
          "metadata": {
            "tags": []
          },
          "execution_count": 110
        }
      ]
    },
    {
      "cell_type": "code",
      "metadata": {
        "id": "lFoZIX91RWaf",
        "colab_type": "code",
        "colab": {
          "base_uri": "https://localhost:8080/",
          "height": 85
        },
        "outputId": "3984cfe3-1aa6-400d-99bf-e4aab0bbd40e"
      },
      "source": [
        "eigena, errsac = qr3(A, tol=1e-5)"
      ],
      "execution_count": null,
      "outputs": [
        {
          "output_type": "stream",
          "text": [
            "qrshiftsteps: [[ 5  4  2]\n",
            " [ 1  3 -1]\n",
            " [ 0 -1  1]]\n",
            "Critical Error, no eigenvalues\n"
          ],
          "name": "stdout"
        }
      ]
    },
    {
      "cell_type": "code",
      "metadata": {
        "id": "7fBbqoYHTEGT",
        "colab_type": "code",
        "colab": {
          "base_uri": "https://localhost:8080/",
          "height": 119
        },
        "outputId": "39d4aa9f-3e05-4ea3-c25c-4163d7cc3ba2"
      },
      "source": [
        "HA = hessenberg(C)\n",
        "qr2(HA)"
      ],
      "execution_count": null,
      "outputs": [
        {
          "output_type": "stream",
          "text": [
            "qrshiftsteps: [[-1.66964532e+01 -1.53771551e+01 -3.22393877e+01  3.95900076e+01]\n",
            " [ 6.76369027e-09  1.66964532e+01  1.28560160e+01 -3.35972808e+01]\n",
            " [ 0.00000000e+00  0.00000000e+00  4.38539573e+00 -1.71189790e+01]\n",
            " [ 0.00000000e+00  0.00000000e+00  2.58378118e+00 -4.38539573e+00]]\n",
            "Critical Error, no eigenvalues\n"
          ],
          "name": "stdout"
        },
        {
          "output_type": "execute_result",
          "data": {
            "text/plain": [
              "([], [])"
            ]
          },
          "metadata": {
            "tags": []
          },
          "execution_count": 133
        }
      ]
    },
    {
      "cell_type": "code",
      "metadata": {
        "id": "N9ozdVwrUvni",
        "colab_type": "code",
        "colab": {
          "base_uri": "https://localhost:8080/",
          "height": 51
        },
        "outputId": "74ecd28e-10f0-47d9-a0ef-1bdb86ec65d5"
      },
      "source": [
        "scl.eigvals(C)"
      ],
      "execution_count": null,
      "outputs": [
        {
          "output_type": "execute_result",
          "data": {
            "text/plain": [
              "array([-1.66964532e+01+0.j,  1.66964532e+01+0.j,  7.77156117e-16+5.j,\n",
              "        7.77156117e-16-5.j])"
            ]
          },
          "metadata": {
            "tags": []
          },
          "execution_count": 134
        }
      ]
    },
    {
      "cell_type": "code",
      "metadata": {
        "id": "QX64HeKzYrhG",
        "colab_type": "code",
        "colab": {}
      },
      "source": [
        ""
      ],
      "execution_count": null,
      "outputs": []
    }
  ]
}